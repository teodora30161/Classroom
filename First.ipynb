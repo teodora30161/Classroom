{
 "cells": [
  {
   "cell_type": "code",
   "execution_count": 1,
   "id": "7778d585-b7cf-4e4f-8a7d-ac56a4fcf010",
   "metadata": {},
   "outputs": [],
   "source": [
    "def add(a, b):\n",
    "    res = a + b\n",
    "    return res"
   ]
  },
  {
   "cell_type": "code",
   "execution_count": null,
   "id": "15d4bbc0-8217-4b7a-8fce-6fb11fa7fe5f",
   "metadata": {},
   "outputs": [
    {
     "name": "stdout",
     "output_type": "stream",
     "text": [
      "1\n"
     ]
    }
   ],
   "source": [
    "result = add(1, 2)\n",
    "print(result)"
   ]
  },
  {
   "cell_type": "code",
   "execution_count": null,
   "id": "cb04ffd0-ca50-4076-a6cd-915e422104af",
   "metadata": {},
   "outputs": [],
   "source": [
    "res =1\n",
    "print(res)"
   ]
  }
 ],
 "metadata": {
  "kernelspec": {
   "display_name": "Python 3 (ipykernel)",
   "language": "python",
   "name": "python3"
  },
  "language_info": {
   "codemirror_mode": {
    "name": "ipython",
    "version": 3
   },
   "file_extension": ".py",
   "mimetype": "text/x-python",
   "name": "python",
   "nbconvert_exporter": "python",
   "pygments_lexer": "ipython3",
   "version": "3.9.12"
  }
 },
 "nbformat": 4,
 "nbformat_minor": 5
}
