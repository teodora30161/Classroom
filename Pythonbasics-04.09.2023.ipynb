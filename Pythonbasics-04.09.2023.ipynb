{
 "cells": [
  {
   "cell_type": "code",
   "execution_count": 3,
   "id": "2d04c119",
   "metadata": {
    "scrolled": true
   },
   "outputs": [
    {
     "ename": "IndentationError",
     "evalue": "expected an indented block (3999546074.py, line 2)",
     "output_type": "error",
     "traceback": [
      "\u001b[0;36m  Input \u001b[0;32mIn [3]\u001b[0;36m\u001b[0m\n\u001b[0;31m    print(\"Five is greater than two!\")\u001b[0m\n\u001b[0m    ^\u001b[0m\n\u001b[0;31mIndentationError\u001b[0m\u001b[0;31m:\u001b[0m expected an indented block\n"
     ]
    }
   ],
   "source": [
    "if 5 > 2:\n",
    "print(\"Five is greater than two!\")\n",
    "    "
   ]
  },
  {
   "cell_type": "code",
   "execution_count": null,
   "id": "9f50de70",
   "metadata": {},
   "outputs": [],
   "source": []
  },
  {
   "cell_type": "code",
   "execution_count": 4,
   "id": "8d4b73b1",
   "metadata": {},
   "outputs": [
    {
     "name": "stdout",
     "output_type": "stream",
     "text": [
      "Five is the greater than two!\n"
     ]
    }
   ],
   "source": [
    "if 5 > 2:\n",
    "    print(\"Five is the greater than two!\")"
   ]
  },
  {
   "cell_type": "code",
   "execution_count": 5,
   "id": "dba4bdc1",
   "metadata": {},
   "outputs": [
    {
     "name": "stdout",
     "output_type": "stream",
     "text": [
      "Printing String variable: \n",
      "Python basics\n"
     ]
    }
   ],
   "source": [
    "String1 = 'Python basics'\n",
    "print(\"Printing String variable: \")\n",
    "print(String1)"
   ]
  },
  {
   "cell_type": "code",
   "execution_count": 6,
   "id": "7a120430",
   "metadata": {},
   "outputs": [
    {
     "name": "stdout",
     "output_type": "stream",
     "text": [
      "a is not less than b\n"
     ]
    }
   ],
   "source": [
    "a = 4\n",
    "b = -5\n",
    "if (a < b):\n",
    "    print(\"a less than b\")\n",
    "else:\n",
    "    print(\"a is not less than b\")"
   ]
  },
  {
   "cell_type": "code",
   "execution_count": 7,
   "id": "d349131c",
   "metadata": {},
   "outputs": [
    {
     "name": "stdout",
     "output_type": "stream",
     "text": [
      "a is not equal to b\n"
     ]
    }
   ],
   "source": [
    "a = 4\n",
    "b = -5\n",
    "if (a == b):\n",
    "    print(\"a is equal to b\")\n",
    "else:\n",
    "    print(\"a is not equal to b\")"
   ]
  },
  {
   "cell_type": "code",
   "execution_count": 9,
   "id": "9edb228c",
   "metadata": {},
   "outputs": [
    {
     "name": "stdout",
     "output_type": "stream",
     "text": [
      "a is not equal to b\n"
     ]
    }
   ],
   "source": [
    "a = 4\n",
    "b = -5\n",
    "if (a != b):\n",
    "    print(\"a is not equal to b\")\n",
    "else:\n",
    "    print(\"a is equal to b\")"
   ]
  },
  {
   "cell_type": "code",
   "execution_count": 10,
   "id": "08278dd9",
   "metadata": {},
   "outputs": [
    {
     "data": {
      "text/plain": [
       "True"
      ]
     },
     "execution_count": 10,
     "metadata": {},
     "output_type": "execute_result"
    }
   ],
   "source": [
    "price = 9.99\n",
    "price > 9 and price < 10"
   ]
  },
  {
   "cell_type": "code",
   "execution_count": 11,
   "id": "15389248",
   "metadata": {},
   "outputs": [
    {
     "data": {
      "text/plain": [
       "True"
      ]
     },
     "execution_count": 11,
     "metadata": {},
     "output_type": "execute_result"
    }
   ],
   "source": [
    "price = 9.99 \n",
    "price > 10 or price < 20"
   ]
  },
  {
   "cell_type": "code",
   "execution_count": 13,
   "id": "75bcb93f",
   "metadata": {},
   "outputs": [
    {
     "name": "stdout",
     "output_type": "stream",
     "text": [
      "Enter your age24\n",
      "You are eligible to vote\n"
     ]
    }
   ],
   "source": [
    "age = input('Enter your age')\n",
    "if int(age) >= 18:\n",
    "    print(\"You are eligible to vote\")"
   ]
  },
  {
   "cell_type": "code",
   "execution_count": 14,
   "id": "d91ae81c",
   "metadata": {},
   "outputs": [
    {
     "name": "stdout",
     "output_type": "stream",
     "text": [
      "Zero\n",
      "This statement is always executed\n"
     ]
    }
   ],
   "source": [
    "number = 0\n",
    "\n",
    "if number > 0:\n",
    "    print(\"Positive number\")\n",
    "    \n",
    "elif number == 0:\n",
    "    print('Zero')\n",
    "else:\n",
    "    print('Negative number')\n",
    "    \n",
    "print('This statement is always executed')    "
   ]
  },
  {
   "cell_type": "code",
   "execution_count": 15,
   "id": "d719affb",
   "metadata": {},
   "outputs": [
    {
     "name": "stdout",
     "output_type": "stream",
     "text": [
      "0\n",
      "1\n",
      "2\n",
      "3\n",
      "4\n"
     ]
    }
   ],
   "source": [
    "for index in range(5):\n",
    "    print(index)"
   ]
  },
  {
   "cell_type": "code",
   "execution_count": 16,
   "id": "d7f08401",
   "metadata": {},
   "outputs": [
    {
     "name": "stdout",
     "output_type": "stream",
     "text": [
      "0\n",
      "1\n",
      "2\n",
      "3\n",
      "4\n"
     ]
    }
   ],
   "source": [
    "max = 5\n",
    "counter = 0\n",
    "while counter < max:\n",
    "    print(counter)\n",
    "    counter +=1"
   ]
  },
  {
   "cell_type": "code",
   "execution_count": 18,
   "id": "0f69ab8c",
   "metadata": {},
   "outputs": [
    {
     "name": "stdout",
     "output_type": "stream",
     "text": [
      "0\n",
      "1\n",
      "2\n",
      "3\n"
     ]
    }
   ],
   "source": [
    "for index in range (0, 10):\n",
    "    print(index)\n",
    "    if index == 3:\n",
    "        break"
   ]
  },
  {
   "cell_type": "code",
   "execution_count": 22,
   "id": "58d848fa",
   "metadata": {},
   "outputs": [],
   "source": [
    "for index in range(10):\n",
    "    if index % 2:\n",
    "        continue\n",
    "        \n",
    "        print(index)"
   ]
  },
  {
   "cell_type": "code",
   "execution_count": 24,
   "id": "b7566e98",
   "metadata": {},
   "outputs": [
    {
     "name": "stdout",
     "output_type": "stream",
     "text": [
      "0\n",
      "2\n",
      "4\n",
      "6\n",
      "8\n"
     ]
    }
   ],
   "source": [
    "for index in range(10):\n",
    "    if index % 2:\n",
    "        continue\n",
    "        \n",
    "    print(index)"
   ]
  },
  {
   "cell_type": "code",
   "execution_count": 33,
   "id": "48cc2904",
   "metadata": {},
   "outputs": [],
   "source": []
  },
  {
   "cell_type": "code",
   "execution_count": 34,
   "id": "f585002d",
   "metadata": {},
   "outputs": [
    {
     "name": "stdout",
     "output_type": "stream",
     "text": [
      "0\n",
      "1\n",
      "1\n",
      "2\n",
      "3\n",
      "5\n",
      "8\n",
      "13\n",
      "21\n",
      "34\n",
      "55\n"
     ]
    }
   ],
   "source": [
    "F0 =0\n",
    "F1 =1\n",
    "for x in range (11):\n",
    "    \n",
    "    if x == 0:\n",
    "        val = 0\n",
    "        print(val)\n",
    "    elif x == 1:\n",
    "        val = 1\n",
    "        print(val)\n",
    "    else:\n",
    "        val = F0 + F1\n",
    "        print(val)\n",
    "        F0 += (F1-F0)\n",
    "        F1 += (val-F1)"
   ]
  },
  {
   "cell_type": "code",
   "execution_count": 35,
   "id": "e9f5ac1d",
   "metadata": {},
   "outputs": [
    {
     "name": "stdout",
     "output_type": "stream",
     "text": [
      "0\n",
      "1\n",
      "0\n",
      "0\n",
      "0\n",
      "0\n",
      "0\n",
      "0\n",
      "0\n",
      "0\n"
     ]
    }
   ],
   "source": [
    "f0 = 0\n",
    "f1 = 1\n",
    "val_i_minus_1 = 0\n",
    "val_i_minus_2 = 0\n",
    "for i in range(10):\n",
    "    if(i==0):\n",
    "        val=f0\n",
    "        val_i_minus_1 = val\n",
    "    elif(i==1):\n",
    "        val=f1\n",
    "        ## Update val_i_minus_1\n",
    "        ## Update val_i_minus_2\n",
    "    else:\n",
    "        val = val_i_minus_1 + val_i_minus_2\n",
    "        ## Update val_i_minus_1\n",
    "        ## Update val_i_minus_2\n",
    "        \n",
    "    print(val)"
   ]
  },
  {
   "cell_type": "code",
   "execution_count": 36,
   "id": "4aa40234",
   "metadata": {},
   "outputs": [],
   "source": [
    "def  greet(name):\n",
    "    \"\"\" Display a greeting to users \"\"\"\n",
    "    return(\"Hi\" + name)"
   ]
  },
  {
   "cell_type": "code",
   "execution_count": 37,
   "id": "fd0f3af3",
   "metadata": {},
   "outputs": [
    {
     "name": "stdout",
     "output_type": "stream",
     "text": [
      "HiJohn\n"
     ]
    }
   ],
   "source": [
    "greeting=greet(\"John\")\n",
    "print(greeting)"
   ]
  },
  {
   "cell_type": "code",
   "execution_count": null,
   "id": "e7e3564b",
   "metadata": {},
   "outputs": [],
   "source": []
  }
 ],
 "metadata": {
  "kernelspec": {
   "display_name": "Python 3 (ipykernel)",
   "language": "python",
   "name": "python3"
  },
  "language_info": {
   "codemirror_mode": {
    "name": "ipython",
    "version": 3
   },
   "file_extension": ".py",
   "mimetype": "text/x-python",
   "name": "python",
   "nbconvert_exporter": "python",
   "pygments_lexer": "ipython3",
   "version": "3.9.12"
  }
 },
 "nbformat": 4,
 "nbformat_minor": 5
}
